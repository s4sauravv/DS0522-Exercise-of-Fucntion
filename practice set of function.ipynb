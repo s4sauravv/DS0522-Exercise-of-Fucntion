{
 "cells": [
  {
   "cell_type": "code",
   "execution_count": 1,
   "id": "f34dcd77",
   "metadata": {},
   "outputs": [],
   "source": [
    "# Basic Eexercise of Fucntion.\n",
    "# I think you have to start coding in pycharm or visual studio."
   ]
  },
  {
   "cell_type": "code",
   "execution_count": 16,
   "id": "4483eabf",
   "metadata": {},
   "outputs": [],
   "source": [
    "# Question 1 - Write a program using function  to find greatest of three numbers ..\n",
    "\n",
    "# Solution:\n",
    "\n",
    "\n",
    "\n",
    "def maximum(num1,num2,num3):\n",
    "    if (num1>num2):\n",
    "        if (num1>num3):\n",
    "            return num1\n",
    "        else:\n",
    "            return num3\n",
    "    else:\n",
    "        if(num2>num3):\n",
    "            return num2\n",
    "        else:\n",
    "            return num3\n",
    "    \n",
    "        "
   ]
  },
  {
   "cell_type": "code",
   "execution_count": 20,
   "id": "ea360f4c",
   "metadata": {},
   "outputs": [
    {
     "data": {
      "text/plain": [
       "17"
      ]
     },
     "execution_count": 20,
     "metadata": {},
     "output_type": "execute_result"
    }
   ],
   "source": [
    "maximum(12,17,15)"
   ]
  },
  {
   "cell_type": "code",
   "execution_count": 21,
   "id": "5fab58e7",
   "metadata": {},
   "outputs": [],
   "source": [
    "# Question 2  - Write a python program usning fucntion to convert celcius to fahrenheit.\n",
    "\n",
    "def farh(cel):\n",
    "    return (cel*(9/5))+32\n",
    "\n"
   ]
  },
  {
   "cell_type": "code",
   "execution_count": 23,
   "id": "fb900094",
   "metadata": {},
   "outputs": [
    {
     "data": {
      "text/plain": [
       "98.60000000000001"
      ]
     },
     "execution_count": 23,
     "metadata": {},
     "output_type": "execute_result"
    }
   ],
   "source": [
    "farh(37)"
   ]
  },
  {
   "cell_type": "code",
   "execution_count": 25,
   "id": "6fe3a1f0",
   "metadata": {},
   "outputs": [
    {
     "name": "stdout",
     "output_type": "stream",
     "text": [
      "Saurav\n",
      "Gaurav\n",
      "Riya\n",
      "Yahsu\n"
     ]
    }
   ],
   "source": [
    "#Question 3-How do you prevent a python print() Funtion to print a new line at the end.\n",
    "\n",
    "#Solution\n",
    "\n",
    "print(\"Saurav\")\n",
    "print(\"Gaurav\")\n",
    "print(\"Riya\")\n",
    "print(\"Yahsu\")"
   ]
  },
  {
   "cell_type": "code",
   "execution_count": 31,
   "id": "56162f66",
   "metadata": {},
   "outputs": [
    {
     "name": "stdout",
     "output_type": "stream",
     "text": [
      "Saurav Gaurav Riya Yahsu "
     ]
    }
   ],
   "source": [
    "#Lets How its print., what we can do if we have to print in same line ..\n",
    "#see..\n",
    "\n",
    "print(\"Saurav\",end=\" \")\n",
    "print(\"Gaurav\",end=\" \")\n",
    "print(\"Riya\",end=\" \")\n",
    "print(\"Yahsu\",end=\" \")"
   ]
  },
  {
   "cell_type": "code",
   "execution_count": 53,
   "id": "14d80ba8",
   "metadata": {},
   "outputs": [],
   "source": [
    "# Question 4 -Write a python fucntion to print first n lines of the following pattern.\n",
    "# ***\n",
    "# **\n",
    "# *         if n=3\n",
    "\n",
    "def pattern(n):\n",
    "    for i in range(n):\n",
    "        print(\"*\" * (n-i))"
   ]
  },
  {
   "cell_type": "code",
   "execution_count": 54,
   "id": "5b5c611a",
   "metadata": {},
   "outputs": [
    {
     "name": "stdout",
     "output_type": "stream",
     "text": [
      "***\n",
      "**\n",
      "*\n"
     ]
    }
   ],
   "source": [
    "pattern(3)"
   ]
  },
  {
   "cell_type": "code",
   "execution_count": 55,
   "id": "bb50b54a",
   "metadata": {},
   "outputs": [],
   "source": [
    "# Question 5 - Write a python fucntion which converts inches into cm.\n",
    "\n",
    "#Solution- \n",
    "\n",
    "def convert(inch):\n",
    "    return (inch * 2.54)"
   ]
  },
  {
   "cell_type": "code",
   "execution_count": 57,
   "id": "fc8d0b5b",
   "metadata": {},
   "outputs": [
    {
     "data": {
      "text/plain": [
       "5.08"
      ]
     },
     "execution_count": 57,
     "metadata": {},
     "output_type": "execute_result"
    }
   ],
   "source": [
    "convert(2)"
   ]
  },
  {
   "cell_type": "code",
   "execution_count": 58,
   "id": "79faecce",
   "metadata": {},
   "outputs": [
    {
     "data": {
      "text/plain": [
       "'Saurav is a boy'"
      ]
     },
     "execution_count": 58,
     "metadata": {},
     "output_type": "execute_result"
    }
   ],
   "source": [
    "#Question 6- Write a python fucntion to remove a given word from a string and strip it at the same time.\n",
    "#Lets See what is strip \n",
    "\n",
    "this=\"         Saurav is a boy        \"\n",
    "\n",
    "#What we can do if we have to remove all the spaces from \"this\" variable.\n",
    "\n",
    "this.strip()"
   ]
  },
  {
   "cell_type": "code",
   "execution_count": 60,
   "id": "5c2ddf27",
   "metadata": {},
   "outputs": [
    {
     "data": {
      "text/plain": [
       "'is a good boy'"
      ]
     },
     "execution_count": 60,
     "metadata": {},
     "output_type": "execute_result"
    }
   ],
   "source": [
    "#Now Solve the Question.\n",
    "\n",
    "def remove_split(string,word):\n",
    "    newstr=string.replace(word, \"\")\n",
    "    return newstr.strip()\n",
    "this=\"    Saurav is a good boy     \"\n",
    "remove_split(this,\"Saurav\")\n",
    "\n",
    "\n",
    "#I also dont uderstand"
   ]
  },
  {
   "cell_type": "code",
   "execution_count": 61,
   "id": "302e75ee",
   "metadata": {},
   "outputs": [],
   "source": [
    "#Question 6- Write a python function to print the multiplication table of a given number.\n",
    "\n",
    "\n",
    "#Solution.\n",
    "\n",
    "def table(num):\n",
    "    for i in range(1,11):\n",
    "        print(num * i)"
   ]
  },
  {
   "cell_type": "code",
   "execution_count": 62,
   "id": "14e80915",
   "metadata": {},
   "outputs": [
    {
     "name": "stdout",
     "output_type": "stream",
     "text": [
      "5\n",
      "10\n",
      "15\n",
      "20\n",
      "25\n",
      "30\n",
      "35\n",
      "40\n",
      "45\n",
      "50\n"
     ]
    }
   ],
   "source": [
    "table(5)"
   ]
  },
  {
   "cell_type": "code",
   "execution_count": null,
   "id": "4f27d1b3",
   "metadata": {},
   "outputs": [],
   "source": [
    "#Student of Data science\n",
    "#Student of DataTrained - Saurav\n",
    "\n",
    "# Data- 23 june 2022"
   ]
  }
 ],
 "metadata": {
  "kernelspec": {
   "display_name": "Python 3 (ipykernel)",
   "language": "python",
   "name": "python3"
  },
  "language_info": {
   "codemirror_mode": {
    "name": "ipython",
    "version": 3
   },
   "file_extension": ".py",
   "mimetype": "text/x-python",
   "name": "python",
   "nbconvert_exporter": "python",
   "pygments_lexer": "ipython3",
   "version": "3.9.12"
  }
 },
 "nbformat": 4,
 "nbformat_minor": 5
}
